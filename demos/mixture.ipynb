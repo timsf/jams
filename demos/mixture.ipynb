{
 "cells": [
  {
   "cell_type": "code",
   "execution_count": null,
   "metadata": {},
   "outputs": [],
   "source": [
    "# dependencies\n",
    "\n",
    "import os\n",
    "os.environ['OPENBLAS_NUM_THREADS'] = '1'\n",
    "os.environ['MKL_NUM_THREADS'] = '1'\n",
    "\n",
    "import numpy as np\n",
    "import matplotlib.pyplot as plt\n",
    "\n",
    "import jams.sampling"
   ]
  },
  {
   "cell_type": "code",
   "execution_count": null,
   "metadata": {},
   "outputs": [],
   "source": [
    "# define model\n",
    "\n",
    "def eval_logcomp(x, mu, sig):\n",
    "    return -(len(x) * np.log(sig) + np.linalg.norm(x - mu, 2) ** 2 / sig) / 2\n",
    "def eval_logp(x):\n",
    "    return np.logaddexp(eval_logcomp(x, mu, sig1), eval_logcomp(x, -mu, sig2))\n",
    "def eval_d_logp(x):\n",
    "    p = np.exp(eval_logp(x))\n",
    "    dp = -((x - mu) / sig1 * np.exp(eval_logcomp(x, mu, sig1)) + (x + mu) / sig2 * np.exp(eval_logcomp(x, -mu, sig2)))\n",
    "    return dp/p\n",
    "    \n",
    "mu = 2\n",
    "sig1 = 1/4\n",
    "sig2 = 1/9\n",
    "d = 4\n",
    "rng = np.random.default_rng(0)"
   ]
  },
  {
   "cell_type": "code",
   "execution_count": null,
   "metadata": {},
   "outputs": [],
   "source": [
    "# generate starting points\n",
    "\n",
    "starting_points = rng.standard_normal(size=(32, d))"
   ]
  },
  {
   "cell_type": "code",
   "execution_count": null,
   "metadata": {},
   "outputs": [],
   "source": [
    "# generate 1e6 samples from target distribution\n",
    "\n",
    "sampler = jams.sampling.sample_posterior(eval_logp, eval_d_logp, starting_points)\n",
    "samples = [next(sampler) for _ in range(int(1e6))]\n",
    "x = np.array([s[0] for s in samples])\n",
    "i = np.array([s[1] for s in samples])"
   ]
  },
  {
   "cell_type": "code",
   "execution_count": null,
   "metadata": {},
   "outputs": [],
   "source": [
    "# inspect distribution of first coordinate and compare to known true density \n",
    "\n",
    "def eval_logp1(x, d):\n",
    "    return np.logaddexp(-(np.log(2 * np.pi * sig1) + (x - mu) ** 2 / sig1) / 2, -(np.log(2 * np.pi * sig2) + (x + mu) ** 2 / sig2) / 2) - np.log(2)\n",
    "\n",
    "x1 = np.linspace(-4, 4, 2 ** 8 + 1)\n",
    "plt.figure(figsize=(9, 3))\n",
    "plt.hist(x[int(1e3):, 0], 128, (-4, 4), True, alpha=.5)\n",
    "plt.plot(x1, np.exp(eval_logp1(x1, d)), color='black')\n",
    "plt.xlabel(r'$x_{1}$')\n",
    "plt.ylabel('dens')"
   ]
  },
  {
   "cell_type": "code",
   "execution_count": null,
   "metadata": {},
   "outputs": [],
   "source": [
    "# inspect trace plot for the last 1000 observations\n",
    "\n",
    "k = np.arange(len(samples) - int(1e3), len(samples))\n",
    "plt.figure(figsize=(9, 3))\n",
    "plt.plot(k, x[k,0])\n",
    "plt.step(k, np.where(i[k] == 1, -mu, mu), color='black', alpha=.25)\n",
    "plt.xlabel('iter')\n",
    "plt.ylabel(r'$x_{1}$')"
   ]
  }
 ],
 "metadata": {
  "kernelspec": {
   "display_name": "jams-4Tib8fqY-py3.11",
   "language": "python",
   "name": "python3"
  },
  "language_info": {
   "codemirror_mode": {
    "name": "ipython",
    "version": 3
   },
   "file_extension": ".py",
   "mimetype": "text/x-python",
   "name": "python",
   "nbconvert_exporter": "python",
   "pygments_lexer": "ipython3",
   "version": "3.11.8"
  }
 },
 "nbformat": 4,
 "nbformat_minor": 2
}
